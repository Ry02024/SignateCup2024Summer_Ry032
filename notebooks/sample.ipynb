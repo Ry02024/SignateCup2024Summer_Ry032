{
  "nbformat": 4,
  "nbformat_minor": 0,
  "metadata": {
    "colab": {
      "provenance": [],
      "authorship_tag": "ABX9TyOvw2qK/8Rf/tl9nZiBwPsP",
      "include_colab_link": true
    },
    "kernelspec": {
      "name": "python3",
      "display_name": "Python 3"
    },
    "language_info": {
      "name": "python"
    }
  },
  "cells": [
    {
      "cell_type": "markdown",
      "metadata": {
        "id": "view-in-github",
        "colab_type": "text"
      },
      "source": [
        "<a href=\"https://colab.research.google.com/github/Ry02024/SignateCup2024Summer_Ry032/blob/master/notebooks/sample.ipynb\" target=\"_parent\"><img src=\"https://colab.research.google.com/assets/colab-badge.svg\" alt=\"Open In Colab\"/></a>"
      ]
    },
    {
      "cell_type": "code",
      "execution_count": null,
      "metadata": {
        "id": "e3z8Ff5iWtQX"
      },
      "outputs": [],
      "source": [
        "import pandas as pd\n",
        "\n",
        "# CSVファイルの読み込み\n",
        "input_path = '../data/raw/train.csv'\n",
        "output_path = '../data/processed/analysis/train2.csv'\n",
        "\n",
        "# データを読み込む\n",
        "df = pd.read_csv(input_path)\n",
        "\n",
        "# データを処理（この例ではそのまま出力）\n",
        "df.to_csv(output_path, index=False)\n",
        "\n",
        "print(\"Data has been processed and saved to\", output_path)\n"
      ]
    }
  ]
}