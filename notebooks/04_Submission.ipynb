{
  "nbformat": 4,
  "nbformat_minor": 0,
  "metadata": {
    "colab": {
      "provenance": [],
      "authorship_tag": "ABX9TyPO5qfjiNB/3Ro1NYTpBnYW",
      "include_colab_link": true
    },
    "kernelspec": {
      "name": "python3",
      "display_name": "Python 3"
    },
    "language_info": {
      "name": "python"
    }
  },
  "cells": [
    {
      "cell_type": "markdown",
      "metadata": {
        "id": "view-in-github",
        "colab_type": "text"
      },
      "source": [
        "<a href=\"https://colab.research.google.com/github/Ry02024/SignateCup2024Summer_Ry032/blob/master/notebooks/04_Submission.ipynb\" target=\"_parent\"><img src=\"https://colab.research.google.com/assets/colab-badge.svg\" alt=\"Open In Colab\"/></a>"
      ]
    },
    {
      "cell_type": "markdown",
      "source": [
        "# 提出ファイル作成"
      ],
      "metadata": {
        "id": "nCQJ_p29v3qA"
      }
    },
    {
      "cell_type": "markdown",
      "source": [
        "## ライブラリのインストールとインポート"
      ],
      "metadata": {
        "id": "Gr6x9sS7wSZs"
      }
    },
    {
      "cell_type": "code",
      "execution_count": null,
      "metadata": {
        "colab": {
          "base_uri": "https://localhost:8080/"
        },
        "id": "PXvDLhyXvOEg",
        "outputId": "0f6e767b-ce5b-4a32-e0ff-e67cd7953ae1"
      },
      "outputs": [
        {
          "output_type": "stream",
          "name": "stdout",
          "text": [
            "\u001b[2K     \u001b[90m━━━━━━━━━━━━━━━━━━━━━━━━━━━━━━━━━━━━━━━━\u001b[0m \u001b[32m4.1/4.1 MB\u001b[0m \u001b[31m12.0 MB/s\u001b[0m eta \u001b[36m0:00:00\u001b[0m\n",
            "\u001b[?25h  Preparing metadata (setup.py) ... \u001b[?25l\u001b[?25hdone\n",
            "  Building wheel for japanize-matplotlib (setup.py) ... \u001b[?25l\u001b[?25hdone\n",
            "\u001b[2K   \u001b[90m━━━━━━━━━━━━━━━━━━━━━━━━━━━━━━━━━━━━━━━━\u001b[0m \u001b[32m98.2/98.2 MB\u001b[0m \u001b[31m8.6 MB/s\u001b[0m eta \u001b[36m0:00:00\u001b[0m\n",
            "\u001b[2K   \u001b[90m━━━━━━━━━━━━━━━━━━━━━━━━━━━━━━━━━━━━━━━━\u001b[0m \u001b[32m81.9/81.9 kB\u001b[0m \u001b[31m734.1 kB/s\u001b[0m eta \u001b[36m0:00:00\u001b[0m\n",
            "\u001b[?25hCloning into 'SignateCup2024Summer_Ry032'...\n",
            "remote: Enumerating objects: 311, done.\u001b[K\n",
            "remote: Counting objects: 100% (123/123), done.\u001b[K\n",
            "remote: Compressing objects: 100% (101/101), done.\u001b[K\n",
            "remote: Total 311 (delta 66), reused 48 (delta 21), pack-reused 188 (from 1)\u001b[K\n",
            "Receiving objects: 100% (311/311), 5.89 MiB | 12.96 MiB/s, done.\n",
            "Resolving deltas: 100% (135/135), done.\n"
          ]
        },
        {
          "output_type": "stream",
          "name": "stderr",
          "text": [
            "/usr/local/lib/python3.10/dist-packages/dask/dataframe/__init__.py:42: FutureWarning: \n",
            "Dask dataframe query planning is disabled because dask-expr is not installed.\n",
            "\n",
            "You can install it with `pip install dask[dataframe]` or `conda install dask`.\n",
            "This will raise in a future version.\n",
            "\n",
            "  warnings.warn(msg, FutureWarning)\n"
          ]
        }
      ],
      "source": [
        "# 必要なパッケージのインストール\n",
        "!pip install japanize-matplotlib -q\n",
        "!pip install catboost -q\n",
        "!pip install category_encoders -q\n",
        "\n",
        "# GitHubリポジトリのクローン\n",
        "!git clone https://github.com/Ry02024/SignateCup2024Summer_Ry032.git\n",
        "\n",
        "# 必要なライブラリのインポート\n",
        "import japanize_matplotlib\n",
        "import pandas as pd\n",
        "import numpy as np\n",
        "import re\n",
        "import unicodedata\n",
        "import datetime as dt\n",
        "import matplotlib.pyplot as plt\n",
        "import logging\n",
        "import os\n",
        "\n",
        "# モデル関連ライブラリのインポート\n",
        "import lightgbm as lgb\n",
        "from lightgbm import log_evaluation, early_stopping\n",
        "from catboost import CatBoostClassifier, Pool\n",
        "from sklearn.preprocessing import StandardScaler, LabelEncoder, OneHotEncoder\n",
        "from sklearn.model_selection import KFold, StratifiedKFold, train_test_split, GridSearchCV\n",
        "from sklearn.metrics import log_loss, accuracy_score, confusion_matrix, roc_auc_score, roc_curve, precision_recall_curve, average_precision_score\n",
        "\n",
        "from sklearn.feature_selection import SelectFromModel\n",
        "from sklearn.linear_model import LassoCV\n",
        "from sklearn.cluster import KMeans\n",
        "from sklearn.impute import SimpleImputer\n",
        "from sklearn.decomposition import PCA\n",
        "\n",
        "# カテゴリカルエンコーディングのためのライブラリ\n",
        "from category_encoders import CatBoostEncoder\n",
        "\n",
        "# クローンしたリポジトリ内のスクリプトをインポート\n",
        "from SignateCup2024Summer_Ry032.src import preprocessing\n",
        "from SignateCup2024Summer_Ry032.src import visualization\n",
        "from SignateCup2024Summer_Ry032.src import model_optimization\n",
        "from SignateCup2024Summer_Ry032.src.evaluate_model import auc_eval, pr_auc_eval, focal_loss_lgb, weighted_cross_entropy, dice_loss, asymmetric_loss, balanced_cross_entropy"
      ]
    },
    {
      "cell_type": "code",
      "source": [
        "%cd SignateCup2024Summer_Ry032/"
      ],
      "metadata": {
        "colab": {
          "base_uri": "https://localhost:8080/"
        },
        "id": "gSNqDrc1Gco8",
        "outputId": "ec07028d-6fe3-45da-d7e8-f2dd675c6c5d"
      },
      "execution_count": null,
      "outputs": [
        {
          "output_type": "stream",
          "name": "stdout",
          "text": [
            "/content/SignateCup2024Summer_Ry032\n"
          ]
        }
      ]
    },
    {
      "cell_type": "markdown",
      "source": [
        "## データの読み込み"
      ],
      "metadata": {
        "id": "stPWDs0myaWy"
      }
    },
    {
      "cell_type": "code",
      "execution_count": null,
      "metadata": {
        "collapsed": true,
        "id": "e0B8g_VPr5hA"
      },
      "outputs": [],
      "source": [
        "data_dir = \"data/processed/lgb/\"\n",
        "test4lgb = pd.read_csv(data_dir + \"test4lgb.csv\")\n",
        "test4lgb = test4lgb.drop(['id','ProdTaken'], axis=1)"
      ]
    },
    {
      "cell_type": "code",
      "execution_count": null,
      "metadata": {
        "id": "GQxgDWVFr5hG"
      },
      "outputs": [],
      "source": [
        "test4lgb = test4lgb.drop(['id','ProdTaken'], axis=1)"
      ]
    },
    {
      "cell_type": "markdown",
      "source": [
        "## モデルの読み込み"
      ],
      "metadata": {
        "id": "1XbE-_PwycvI"
      }
    },
    {
      "cell_type": "code",
      "source": [
        "# 1. モデルの読み込み\n",
        "model_path = 'models/lgb_model4.pkl'  # model3のファイルパスを指定\n",
        "model = lgb.Booster(model_file=model_path)"
      ],
      "metadata": {
        "id": "vu7zS1QDzULv"
      },
      "execution_count": null,
      "outputs": []
    },
    {
      "cell_type": "markdown",
      "source": [
        "## 予測"
      ],
      "metadata": {
        "id": "gBIB-YBAyfKE"
      }
    },
    {
      "cell_type": "code",
      "source": [
        "data_sub_dir = 'data/raw/'"
      ],
      "metadata": {
        "id": "11YE5vJbmkR0"
      },
      "execution_count": null,
      "outputs": []
    },
    {
      "cell_type": "code",
      "source": [
        "submission_dir = 'data/submissions/'"
      ],
      "metadata": {
        "id": "6TZFBgkWnyXJ"
      },
      "execution_count": null,
      "outputs": []
    },
    {
      "cell_type": "code",
      "source": [
        "import lightgbm as lgb\n",
        "import pandas as pd\n",
        "\n",
        "# 2. テストデータの読み込み\n",
        "test_data = test4lgb\n",
        "\n",
        "# 3. 予測の実行\n",
        "# モデルに適合する特徴量のみを使用するように注意\n",
        "predictions = model.predict(test_data)\n",
        "\n",
        "# 4. 提出用データフレームに予測結果を代入\n",
        "submit = pd.read_csv(data_sub_dir + \"sample_submit.csv\", header=None)\n",
        "submit[1] = predictions\n",
        "\n",
        "# 5. 結果の保存\n",
        "submission_file = 'submission_lgb.csv'  # 提出用ファイル名を指定\n",
        "submit.to_csv(submission_dir + submission_file, index=False)\n",
        "\n",
        "print(f\"Submission file saved as {submission_file}\")"
      ],
      "metadata": {
        "id": "lVYjBlcVroqe"
      },
      "execution_count": null,
      "outputs": []
    }
  ]
}