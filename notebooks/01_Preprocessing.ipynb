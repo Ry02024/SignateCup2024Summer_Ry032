{
  "nbformat": 4,
  "nbformat_minor": 0,
  "metadata": {
    "colab": {
      "provenance": [],
      "authorship_tag": "ABX9TyN4Szvk+iOQkogeVxEiIk7n",
      "include_colab_link": true
    },
    "kernelspec": {
      "name": "python3",
      "display_name": "Python 3"
    },
    "language_info": {
      "name": "python"
    }
  },
  "cells": [
    {
      "cell_type": "markdown",
      "metadata": {
        "id": "view-in-github",
        "colab_type": "text"
      },
      "source": [
        "<a href=\"https://colab.research.google.com/github/Ry02024/SignateCup2024Summer_Ry032/blob/master/notebooks/01_Preprocessing.ipynb\" target=\"_parent\"><img src=\"https://colab.research.google.com/assets/colab-badge.svg\" alt=\"Open In Colab\"/></a>"
      ]
    },
    {
      "cell_type": "markdown",
      "source": [
        "# 前処理"
      ],
      "metadata": {
        "id": "spl26lxT6o1o"
      }
    },
    {
      "cell_type": "code",
      "source": [
        "# 必要なパッケージのインストール\n",
        "!pip install japanize-matplotlib -q\n",
        "!pip install catboost -q\n",
        "!pip install category_encoders -q\n",
        "\n",
        "# GitHubリポジトリのクローン\n",
        "!git clone https://github.com/Ry02024/SignateCup2024Summer_Ry032.git\n",
        "\n",
        "# 必要なライブラリのインポート\n",
        "import japanize_matplotlib\n",
        "import pandas as pd\n",
        "import numpy as np\n",
        "import re\n",
        "import unicodedata\n",
        "import datetime as dt\n",
        "import matplotlib.pyplot as plt\n",
        "import logging\n",
        "import os\n",
        "\n",
        "# モデル関連ライブラリのインポート\n",
        "import lightgbm as lgb\n",
        "from lightgbm import log_evaluation, early_stopping\n",
        "from catboost import CatBoostClassifier, Pool\n",
        "from sklearn.preprocessing import StandardScaler, LabelEncoder, OneHotEncoder\n",
        "from sklearn.model_selection import KFold, StratifiedKFold, train_test_split, GridSearchCV\n",
        "from sklearn.metrics import log_loss, accuracy_score, confusion_matrix, roc_auc_score, roc_curve, precision_recall_curve, average_precision_score\n",
        "\n",
        "from sklearn.feature_selection import SelectFromModel\n",
        "from sklearn.linear_model import LassoCV\n",
        "from sklearn.cluster import KMeans\n",
        "from sklearn.impute import SimpleImputer\n",
        "from sklearn.decomposition import PCA\n",
        "\n",
        "# カテゴリカルエンコーディングのためのライブラリ\n",
        "from category_encoders import CatBoostEncoder\n",
        "\n",
        "# クローンしたリポジトリ内のスクリプトをインポート\n",
        "from SignateCup2024Summer_Ry032.src import preprocessing\n",
        "from SignateCup2024Summer_Ry032.src import visualization\n",
        "from SignateCup2024Summer_Ry032.src import model_optimization\n",
        "from SignateCup2024Summer_Ry032.src.evaluate_model import auc_eval, pr_auc_eval, focal_loss_lgb, weighted_cross_entropy, dice_loss, asymmetric_loss, balanced_cross_entropy"
      ],
      "metadata": {
        "id": "YkHr-qGqScHZ"
      },
      "execution_count": null,
      "outputs": []
    },
    {
      "cell_type": "code",
      "source": [
        "%cd SignateCup2024Summer_Ry032/"
      ],
      "metadata": {
        "id": "ZEZZR2WdSc9m"
      },
      "execution_count": null,
      "outputs": []
    },
    {
      "cell_type": "code",
      "source": [
        "data_dir = \"data/raw/\"\n",
        "train = pd.read_csv(data_dir + \"train.csv\")\n",
        "test = pd.read_csv(data_dir + \"test.csv\")"
      ],
      "metadata": {
        "id": "tFSAA0_7S5wh"
      },
      "execution_count": null,
      "outputs": []
    },
    {
      "cell_type": "code",
      "source": [
        "full_data = pd.concat([train, test], axis=0, ignore_index=True)"
      ],
      "metadata": {
        "id": "j-ZQSJB_S_kS"
      },
      "execution_count": null,
      "outputs": []
    },
    {
      "cell_type": "code",
      "source": [
        "full_data_processed = preprocessing.preprocess4analysis(full_data)"
      ],
      "metadata": {
        "id": "wxDoUCfsTBwo"
      },
      "execution_count": null,
      "outputs": []
    },
    {
      "cell_type": "code",
      "source": [
        "train4analysis = full_data_processed.iloc[:len(train)]\n",
        "test4analysis = full_data_processed.iloc[len(train):]"
      ],
      "metadata": {
        "id": "A-FSB203TEnz"
      },
      "execution_count": null,
      "outputs": []
    },
    {
      "cell_type": "code",
      "source": [
        "train4analysis.to_csv(\"data/processed/analysis/train4analysis.csv\", index=False)\n",
        "test4analysis.to_csv(\"data/processed/analysis/test4analysis.csv\", index=False)"
      ],
      "metadata": {
        "id": "GjXRTRalTIdB"
      },
      "execution_count": null,
      "outputs": []
    },
    {
      "cell_type": "code",
      "source": [
        "from google.colab import userdata\n",
        "github_mail = userdata.get('github_mail')\n",
        "github_name = userdata.get('github_name')"
      ],
      "metadata": {
        "id": "yBZAUx_ETLp5"
      },
      "execution_count": null,
      "outputs": []
    },
    {
      "cell_type": "code",
      "source": [
        "# !git config --global user.email {github_mail}\n",
        "# !git config --global user.name {github_name}"
      ],
      "metadata": {
        "id": "W-J8MSNJTOqh"
      },
      "execution_count": null,
      "outputs": []
    },
    {
      "cell_type": "code",
      "source": [
        "# from google.colab import userdata\n",
        "# import subprocess\n",
        "\n",
        "# # GitHubのPersonal Access Tokenを取得\n",
        "# token = userdata.get('GitHub_pass')\n",
        "\n",
        "# # リモートURLの再設定（もしまだ設定していない場合）\n",
        "# repo_url = f\"https://{token}@github.com/Ry02024/SignateCup2024Summer_Ry032.git\"\n",
        "# subprocess.run([\"git\", \"remote\", \"set-url\", \"origin\", repo_url])"
      ],
      "metadata": {
        "id": "QoTvHEioTQ_K"
      },
      "execution_count": null,
      "outputs": []
    },
    {
      "cell_type": "code",
      "source": [
        "# # ファイルをステージング\n",
        "# !git add data/processed/analysis/train4analysis.csv\n",
        "# !git add data/processed/analysis/test4analysis.csv\n",
        "\n",
        "# # コミットしてプッシュ\n",
        "# !git commit -m \"Add new data\"\n",
        "# !git push origin master"
      ],
      "metadata": {
        "id": "NVbzjZvvTUQz"
      },
      "execution_count": null,
      "outputs": []
    }
  ]
}