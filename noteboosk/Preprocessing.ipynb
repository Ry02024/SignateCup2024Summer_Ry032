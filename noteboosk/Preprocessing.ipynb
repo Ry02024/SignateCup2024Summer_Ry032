{
  "nbformat": 4,
  "nbformat_minor": 0,
  "metadata": {
    "colab": {
      "provenance": [],
      "authorship_tag": "ABX9TyNR3ekoHxVfTtf3dZFWfpxc",
      "include_colab_link": true
    },
    "kernelspec": {
      "name": "python3",
      "display_name": "Python 3"
    },
    "language_info": {
      "name": "python"
    }
  },
  "cells": [
    {
      "cell_type": "markdown",
      "metadata": {
        "id": "view-in-github",
        "colab_type": "text"
      },
      "source": [
        "<a href=\"https://colab.research.google.com/github/Ry02024/SignateCup2024Summer_Ry032/blob/master/noteboosk/Preprocessing.ipynb\" target=\"_parent\"><img src=\"https://colab.research.google.com/assets/colab-badge.svg\" alt=\"Open In Colab\"/></a>"
      ]
    },
    {
      "cell_type": "code",
      "source": [
        "# 必要なパッケージのインストール\n",
        "!pip install japanize-matplotlib -q\n",
        "!pip install catboost -q\n",
        "!pip install category_encoders -q\n",
        "\n",
        "# GitHubリポジトリのクローン\n",
        "!git clone https://github.com/Ry02024/SignateCup2024Summer_Ry032.git\n",
        "\n",
        "# 必要なライブラリのインポート\n",
        "import japanize_matplotlib\n",
        "import pandas as pd\n",
        "import numpy as np\n",
        "import re\n",
        "import unicodedata\n",
        "import datetime as dt\n",
        "import matplotlib.pyplot as plt\n",
        "import logging\n",
        "import os\n",
        "\n",
        "# モデル関連ライブラリのインポート\n",
        "import lightgbm as lgb\n",
        "from lightgbm import log_evaluation, early_stopping\n",
        "from catboost import CatBoostClassifier, Pool\n",
        "from sklearn.preprocessing import StandardScaler, LabelEncoder, OneHotEncoder\n",
        "from sklearn.model_selection import KFold, StratifiedKFold, train_test_split, GridSearchCV\n",
        "from sklearn.metrics import log_loss, accuracy_score, confusion_matrix, roc_auc_score, roc_curve, precision_recall_curve, average_precision_score\n",
        "\n",
        "from sklearn.feature_selection import SelectFromModel\n",
        "from sklearn.linear_model import LassoCV\n",
        "from sklearn.cluster import KMeans\n",
        "from sklearn.impute import SimpleImputer\n",
        "from sklearn.decomposition import PCA\n",
        "\n",
        "# カテゴリカルエンコーディングのためのライブラリ\n",
        "from category_encoders import CatBoostEncoder\n",
        "\n",
        "# クローンしたリポジトリ内のスクリプトをインポート\n",
        "from SignateCup2024Summer_Ry032.src import preprocessing\n",
        "from SignateCup2024Summer_Ry032.src import visualization\n",
        "from SignateCup2024Summer_Ry032.src import model_optimization\n",
        "from SignateCup2024Summer_Ry032.src.evaluate_model import auc_eval, pr_auc_eval, focal_loss_lgb, weighted_cross_entropy, dice_loss, asymmetric_loss, balanced_cross_entropy"
      ],
      "metadata": {
        "id": "YkHr-qGqScHZ"
      },
      "execution_count": null,
      "outputs": []
    },
    {
      "cell_type": "code",
      "source": [],
      "metadata": {
        "id": "ZEZZR2WdSc9m"
      },
      "execution_count": null,
      "outputs": []
    }
  ]
}